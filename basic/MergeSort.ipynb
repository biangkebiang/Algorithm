{
 "cells": [
  {
   "cell_type": "code",
   "execution_count": null,
   "metadata": {},
   "outputs": [],
   "source": [
    "def merge(ArrSubLeft, ArrSubRight):\n",
    "    \"\"\"\n",
    "    returns one sorted array from two sub sorted array\n",
    "    \"\"\"\n",
    "    i,j = 0,0\n",
    "    ArrSort = []\n",
    "    while i < len(ArrSubLeft) and j < len(ArrSubRight):\n",
    "        if ArrSubLeft[i] < ArrSubRight[j]:\n",
    "            ArrSort.append(ArrSubLeft[i])\n",
    "            i += 1\n",
    "        else:\n",
    "            ArrSort.append(ArrSubRight[j])\n",
    "            j += 1\n",
    "    if i < len(ArrSubLeft):\n",
    "        ArrSort.extend(ArrSubLeft[i:])\n",
    "    if j < len(ArrSubRight):\n",
    "        ArrSort.extend(ArrSubRight[j:])\n",
    "    return ArrSort\n",
    "\n",
    "def merge_sort(arr):\n",
    "    \"\"\"\n",
    "    merge sort implementation\n",
    "    complexity: O(n*lgn)\n",
    "    \"\"\"\n",
    "    n = len(arr)\n",
    "    if n == 1:\n",
    "        return arr\n",
    "    else:\n",
    "        ArrSubLeft = merge_sort(arr[:n//2])\n",
    "        ArrSubRight = merge_sort(arr[n//2:])\n",
    "        ArrSort = merge(ArrSubLeft, ArrSubRight)\n",
    "        return ArrSort\n",
    "    \n"
   ]
  },
  {
   "cell_type": "code",
   "execution_count": 21,
   "metadata": {},
   "outputs": [
    {
     "name": "stdout",
     "output_type": "stream",
     "text": [
      "[1, 2, 4, 4, 4, 4, 5, 5, 7, 11, 21, 22, 22, 23, 45, 57, 67, 123, 312, 321, 2222, 5435]\n"
     ]
    }
   ],
   "source": [
    "a = merge_sort([4,5,7,1,2,4,11,23,123,22,21,2222,22,4,5,321,312,5435,67,4,57,45])\n",
    "print(a)"
   ]
  },
  {
   "cell_type": "code",
   "execution_count": null,
   "metadata": {},
   "outputs": [],
   "source": []
  }
 ],
 "metadata": {
  "kernelspec": {
   "display_name": "Python 3",
   "language": "python",
   "name": "python3"
  },
  "language_info": {
   "codemirror_mode": {
    "name": "ipython",
    "version": 3
   },
   "file_extension": ".py",
   "mimetype": "text/x-python",
   "name": "python",
   "nbconvert_exporter": "python",
   "pygments_lexer": "ipython3",
   "version": "3.6.8"
  }
 },
 "nbformat": 4,
 "nbformat_minor": 4
}
