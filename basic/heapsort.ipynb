{
 "cells": [
  {
   "cell_type": "code",
   "execution_count": 1,
   "metadata": {},
   "outputs": [],
   "source": [
    "def max_heapify(arr, i, n):\n",
    "    \"\"\"\n",
    "    if arr[i] violate the max-heap property, correct the violation recursive\n",
    "    complexity: O(log(n))\n",
    "    \"\"\"\n",
    "    l = 2*i+1\n",
    "    r = 2*i+2\n",
    "    largest = i\n",
    "    if l < n and arr[l] > arr[i]:\n",
    "        largest = l\n",
    "    if r < n and arr[r] > arr[largest]:\n",
    "        largest = r\n",
    "    if largest != i:\n",
    "        arr[i], arr[largest] = arr[largest], arr[i]\n",
    "        max_heapify(arr, largest, n)\n",
    "\n",
    "def build_max_heap(arr):\n",
    "    \"\"\"\n",
    "    build a max-heap from an unordered arr\n",
    "    complexity: O(n)\n",
    "    \"\"\"\n",
    "    n = len(arr)\n",
    "    for i in range(n//2, -1, -1):\n",
    "        max_heapify(arr, i, n)\n",
    "    return arr\n",
    "\n",
    "def heap_sort(arr):\n",
    "    \"\"\"\n",
    "    array sort by exchange element arr[0] and arr[n]\n",
    "    complexity: O(nlog(n))\n",
    "    \"\"\"\n",
    "    build_max_heap(arr)\n",
    "    for i in range(len(arr)-1, 0, -1):\n",
    "        arr[i], arr[0] = arr[0], arr[i]\n",
    "        max_heapify(arr, 0, i)\n",
    "    return arr"
   ]
  },
  {
   "cell_type": "code",
   "execution_count": 3,
   "metadata": {},
   "outputs": [
    {
     "name": "stdout",
     "output_type": "stream",
     "text": [
      "[1, 2, 2, 2, 3, 3, 4, 54, 321, 323, 22222]\n"
     ]
    }
   ],
   "source": [
    "print(heap_sort([1,2,54,321,3,3,2,2,4,323,22222]))\n",
    "# print(build_max_heap([1,2,54,321,3]))"
   ]
  }
 ],
 "metadata": {
  "kernelspec": {
   "display_name": "Python 3",
   "language": "python",
   "name": "python3"
  },
  "language_info": {
   "codemirror_mode": {
    "name": "ipython",
    "version": 3
   },
   "file_extension": ".py",
   "mimetype": "text/x-python",
   "name": "python",
   "nbconvert_exporter": "python",
   "pygments_lexer": "ipython3",
   "version": "3.6.8"
  }
 },
 "nbformat": 4,
 "nbformat_minor": 4
}
