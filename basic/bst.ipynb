{
 "cells": [
  {
   "cell_type": "code",
   "execution_count": 40,
   "metadata": {},
   "outputs": [],
   "source": [
    "class Node:\n",
    "    \"\"\"\n",
    "    node structure of BST\n",
    "    \"\"\"\n",
    "    def __init__(self, value):\n",
    "        self.value = value\n",
    "        self.left = None\n",
    "        self.right = None\n",
    "        self.parent = None\n",
    "        \n",
    "def bst_insert(root, value):\n",
    "    \"\"\"\n",
    "    insert one node into bst\n",
    "    complexity: O(log(n)) \n",
    "    \"\"\"\n",
    "    if root.value == value:\n",
    "        return\n",
    "    if value < root.value:\n",
    "        if root.left:\n",
    "            bst_insert(root.left, value)\n",
    "        else:\n",
    "            root.left = Node(value)\n",
    "            root.left.parent = root\n",
    "    else:\n",
    "        if root.right:\n",
    "            bst_insert(root.right, value)\n",
    "        else:\n",
    "            root.right = Node(value)\n",
    "            root.right.parent = root\n",
    "\n",
    "def bst_insert_list(arr):\n",
    "    \"\"\"\n",
    "    turn array into bst\n",
    "    complexity: O(nlog(n))\n",
    "    \"\"\"\n",
    "    root = Node(arr[0])\n",
    "    for value in arr:\n",
    "        bst_insert(root, value)\n",
    "    return root\n",
    "\n",
    "def bst_search(root, value):\n",
    "    \"\"\"\n",
    "    search node in bst\n",
    "    complexity: O(log(n))\n",
    "    \"\"\"\n",
    "    if root.value == value:\n",
    "        return True\n",
    "    if value < root.value: \n",
    "        if root.left is None:\n",
    "            return False\n",
    "        else:\n",
    "            return bst_search(root.left, value)\n",
    "    if value > root.value:\n",
    "        if root.right is None:\n",
    "            return False\n",
    "        else:\n",
    "            return bst_search(root.right, value)\n",
    "            \n",
    "def bst_pre_order(root):\n",
    "        \"\"\"\n",
    "        print bst sorted\n",
    "        \"\"\"\n",
    "        if root.left:\n",
    "            bst_pre_order(root.left)\n",
    "        print(root.value)\n",
    "        if root.right:\n",
    "            bst_pre_order(root.right)\n",
    "            \n"
   ]
  },
  {
   "cell_type": "code",
   "execution_count": 44,
   "metadata": {},
   "outputs": [
    {
     "name": "stdout",
     "output_type": "stream",
     "text": [
      "False\n"
     ]
    }
   ],
   "source": [
    "root = bst_insert_list([5,3,12,23,43,333,3,4,9,0])\n",
    "res = bst_search(root, 99)\n",
    "print(res)"
   ]
  }
 ],
 "metadata": {
  "kernelspec": {
   "display_name": "Python 3",
   "language": "python",
   "name": "python3"
  },
  "language_info": {
   "codemirror_mode": {
    "name": "ipython",
    "version": 3
   },
   "file_extension": ".py",
   "mimetype": "text/x-python",
   "name": "python",
   "nbconvert_exporter": "python",
   "pygments_lexer": "ipython3",
   "version": "3.6.8"
  }
 },
 "nbformat": 4,
 "nbformat_minor": 4
}
